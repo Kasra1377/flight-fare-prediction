{
 "cells": [
  {
   "cell_type": "code",
   "execution_count": 1,
   "metadata": {},
   "outputs": [],
   "source": [
    "import pandas as pd\n",
    "import numpy as np\n",
    "import matplotlib.pyplot as plt\n",
    "import seaborn as sns\n",
    "import warnings\n",
    "%matplotlib inline\n",
    "\n",
    "warnings.filterwarnings(\"ignore\") "
   ]
  },
  {
   "cell_type": "code",
   "execution_count": 2,
   "metadata": {},
   "outputs": [
    {
     "data": {
      "text/html": [
       "<div>\n",
       "<style scoped>\n",
       "    .dataframe tbody tr th:only-of-type {\n",
       "        vertical-align: middle;\n",
       "    }\n",
       "\n",
       "    .dataframe tbody tr th {\n",
       "        vertical-align: top;\n",
       "    }\n",
       "\n",
       "    .dataframe thead th {\n",
       "        text-align: right;\n",
       "    }\n",
       "</style>\n",
       "<table border=\"1\" class=\"dataframe\">\n",
       "  <thead>\n",
       "    <tr style=\"text-align: right;\">\n",
       "      <th></th>\n",
       "      <th>Unnamed: 0</th>\n",
       "      <th>Airline</th>\n",
       "      <th>Source</th>\n",
       "      <th>Destination</th>\n",
       "      <th>Total_Stops</th>\n",
       "      <th>Additional_Info</th>\n",
       "      <th>Price</th>\n",
       "      <th>Day</th>\n",
       "      <th>Month</th>\n",
       "      <th>Weekday</th>\n",
       "      <th>Season</th>\n",
       "      <th>Dep_Time_Hour</th>\n",
       "      <th>Dep_Time_Min</th>\n",
       "      <th>Duration_Min</th>\n",
       "    </tr>\n",
       "  </thead>\n",
       "  <tbody>\n",
       "    <tr>\n",
       "      <th>0</th>\n",
       "      <td>0</td>\n",
       "      <td>IndiGo</td>\n",
       "      <td>Banglore</td>\n",
       "      <td>New Delhi</td>\n",
       "      <td>non-stop</td>\n",
       "      <td>No info</td>\n",
       "      <td>3897</td>\n",
       "      <td>24</td>\n",
       "      <td>March</td>\n",
       "      <td>Sunday</td>\n",
       "      <td>Spring</td>\n",
       "      <td>22</td>\n",
       "      <td>20</td>\n",
       "      <td>170</td>\n",
       "    </tr>\n",
       "    <tr>\n",
       "      <th>1</th>\n",
       "      <td>1</td>\n",
       "      <td>Air India</td>\n",
       "      <td>Kolkata</td>\n",
       "      <td>Banglore</td>\n",
       "      <td>2 stops</td>\n",
       "      <td>No info</td>\n",
       "      <td>7662</td>\n",
       "      <td>1</td>\n",
       "      <td>May</td>\n",
       "      <td>Wednesday</td>\n",
       "      <td>Spring</td>\n",
       "      <td>5</td>\n",
       "      <td>50</td>\n",
       "      <td>445</td>\n",
       "    </tr>\n",
       "    <tr>\n",
       "      <th>2</th>\n",
       "      <td>2</td>\n",
       "      <td>Jet Airways</td>\n",
       "      <td>Delhi</td>\n",
       "      <td>Cochin</td>\n",
       "      <td>2 stops</td>\n",
       "      <td>No info</td>\n",
       "      <td>13882</td>\n",
       "      <td>9</td>\n",
       "      <td>June</td>\n",
       "      <td>Sunday</td>\n",
       "      <td>Summer</td>\n",
       "      <td>9</td>\n",
       "      <td>25</td>\n",
       "      <td>1140</td>\n",
       "    </tr>\n",
       "    <tr>\n",
       "      <th>3</th>\n",
       "      <td>3</td>\n",
       "      <td>IndiGo</td>\n",
       "      <td>Kolkata</td>\n",
       "      <td>Banglore</td>\n",
       "      <td>1 stop</td>\n",
       "      <td>No info</td>\n",
       "      <td>6218</td>\n",
       "      <td>12</td>\n",
       "      <td>May</td>\n",
       "      <td>Sunday</td>\n",
       "      <td>Spring</td>\n",
       "      <td>18</td>\n",
       "      <td>5</td>\n",
       "      <td>325</td>\n",
       "    </tr>\n",
       "    <tr>\n",
       "      <th>4</th>\n",
       "      <td>4</td>\n",
       "      <td>IndiGo</td>\n",
       "      <td>Banglore</td>\n",
       "      <td>New Delhi</td>\n",
       "      <td>1 stop</td>\n",
       "      <td>No info</td>\n",
       "      <td>13302</td>\n",
       "      <td>1</td>\n",
       "      <td>March</td>\n",
       "      <td>Friday</td>\n",
       "      <td>Spring</td>\n",
       "      <td>16</td>\n",
       "      <td>50</td>\n",
       "      <td>285</td>\n",
       "    </tr>\n",
       "  </tbody>\n",
       "</table>\n",
       "</div>"
      ],
      "text/plain": [
       "   Unnamed: 0      Airline    Source Destination Total_Stops Additional_Info  \\\n",
       "0           0       IndiGo  Banglore   New Delhi    non-stop         No info   \n",
       "1           1    Air India   Kolkata    Banglore     2 stops         No info   \n",
       "2           2  Jet Airways     Delhi      Cochin     2 stops         No info   \n",
       "3           3       IndiGo   Kolkata    Banglore      1 stop         No info   \n",
       "4           4       IndiGo  Banglore   New Delhi      1 stop         No info   \n",
       "\n",
       "   Price  Day  Month    Weekday  Season  Dep_Time_Hour  Dep_Time_Min  \\\n",
       "0   3897   24  March     Sunday  Spring             22            20   \n",
       "1   7662    1    May  Wednesday  Spring              5            50   \n",
       "2  13882    9   June     Sunday  Summer              9            25   \n",
       "3   6218   12    May     Sunday  Spring             18             5   \n",
       "4  13302    1  March     Friday  Spring             16            50   \n",
       "\n",
       "   Duration_Min  \n",
       "0           170  \n",
       "1           445  \n",
       "2          1140  \n",
       "3           325  \n",
       "4           285  "
      ]
     },
     "execution_count": 2,
     "metadata": {},
     "output_type": "execute_result"
    }
   ],
   "source": [
    "cleaned_data = pd.read_csv(\"data/cleaned_data/cleaned_data.csv\")\n",
    "cleaned_data.head()"
   ]
  },
  {
   "cell_type": "code",
   "execution_count": 3,
   "metadata": {},
   "outputs": [],
   "source": [
    "cleaned_data.drop([\"Unnamed: 0\"] , axis = 1 , inplace = True) #Removing the redundant column."
   ]
  },
  {
   "cell_type": "code",
   "execution_count": 4,
   "metadata": {},
   "outputs": [
    {
     "name": "stdout",
     "output_type": "stream",
     "text": [
      "<class 'pandas.core.frame.DataFrame'>\n",
      "RangeIndex: 10517 entries, 0 to 10516\n",
      "Data columns (total 13 columns):\n",
      " #   Column           Non-Null Count  Dtype \n",
      "---  ------           --------------  ----- \n",
      " 0   Airline          10517 non-null  object\n",
      " 1   Source           10517 non-null  object\n",
      " 2   Destination      10517 non-null  object\n",
      " 3   Total_Stops      10516 non-null  object\n",
      " 4   Additional_Info  10517 non-null  object\n",
      " 5   Price            10517 non-null  int64 \n",
      " 6   Day              10517 non-null  int64 \n",
      " 7   Month            10517 non-null  object\n",
      " 8   Weekday          10517 non-null  object\n",
      " 9   Season           10517 non-null  object\n",
      " 10  Dep_Time_Hour    10517 non-null  int64 \n",
      " 11  Dep_Time_Min     10517 non-null  int64 \n",
      " 12  Duration_Min     10517 non-null  int64 \n",
      "dtypes: int64(5), object(8)\n",
      "memory usage: 1.0+ MB\n"
     ]
    }
   ],
   "source": [
    "cleaned_data.info()"
   ]
  },
  {
   "cell_type": "markdown",
   "metadata": {},
   "source": [
    "We have to change the `Dep_Time_Hour` data type from int to object.Because we can not assign every value to this column."
   ]
  },
  {
   "cell_type": "code",
   "execution_count": 5,
   "metadata": {},
   "outputs": [],
   "source": [
    "cleaned_data[\"Dep_Time_Hour\"] = cleaned_data[\"Dep_Time_Hour\"].astype(\"object\")"
   ]
  },
  {
   "cell_type": "code",
   "execution_count": 6,
   "metadata": {},
   "outputs": [],
   "source": [
    "# Splitting feartures and labels in our data\n",
    "X = cleaned_data.drop([\"Duration_Min\" , \"Price\"] , axis = 1)\n",
    "y = pd.DataFrame(cleaned_data[[\"Duration_Min\" , \"Price\"]])"
   ]
  },
  {
   "cell_type": "markdown",
   "metadata": {},
   "source": [
    "### Train_Test_Split\n",
    "As soon as we receive the data we have to split it into training set and test set.By doing this we can prevent the `data leakage` phenomenon in the feature engineering phase."
   ]
  },
  {
   "cell_type": "code",
   "execution_count": 7,
   "metadata": {},
   "outputs": [],
   "source": [
    "from sklearn.model_selection import train_test_split\n",
    "X_train , X_test , y_train , y_test = train_test_split(X , y , shuffle = True , random_state = 1)"
   ]
  },
  {
   "cell_type": "code",
   "execution_count": 8,
   "metadata": {},
   "outputs": [
    {
     "name": "stdout",
     "output_type": "stream",
     "text": [
      "X_train.shape :  (7887, 11)\n",
      "X_test.shape :  (2630, 11)\n",
      "y_train.shape :  (7887, 2)\n",
      "y_test.shape :  (2630, 2)\n"
     ]
    }
   ],
   "source": [
    "print(\"X_train.shape : \" , X_train.shape)\n",
    "print(\"X_test.shape : \" , X_test.shape)\n",
    "print(\"y_train.shape : \" , y_train.shape)\n",
    "print(\"y_test.shape : \" , y_test.shape)"
   ]
  },
  {
   "cell_type": "code",
   "execution_count": 9,
   "metadata": {},
   "outputs": [
    {
     "data": {
      "text/html": [
       "<div>\n",
       "<style scoped>\n",
       "    .dataframe tbody tr th:only-of-type {\n",
       "        vertical-align: middle;\n",
       "    }\n",
       "\n",
       "    .dataframe tbody tr th {\n",
       "        vertical-align: top;\n",
       "    }\n",
       "\n",
       "    .dataframe thead th {\n",
       "        text-align: right;\n",
       "    }\n",
       "</style>\n",
       "<table border=\"1\" class=\"dataframe\">\n",
       "  <thead>\n",
       "    <tr style=\"text-align: right;\">\n",
       "      <th></th>\n",
       "      <th>Airline</th>\n",
       "      <th>Source</th>\n",
       "      <th>Destination</th>\n",
       "      <th>Total_Stops</th>\n",
       "      <th>Additional_Info</th>\n",
       "      <th>Day</th>\n",
       "      <th>Month</th>\n",
       "      <th>Weekday</th>\n",
       "      <th>Season</th>\n",
       "      <th>Dep_Time_Hour</th>\n",
       "      <th>Dep_Time_Min</th>\n",
       "    </tr>\n",
       "  </thead>\n",
       "  <tbody>\n",
       "    <tr>\n",
       "      <th>2237</th>\n",
       "      <td>Air India</td>\n",
       "      <td>Banglore</td>\n",
       "      <td>Delhi</td>\n",
       "      <td>non-stop</td>\n",
       "      <td>No info</td>\n",
       "      <td>21</td>\n",
       "      <td>May</td>\n",
       "      <td>Tuesday</td>\n",
       "      <td>Spring</td>\n",
       "      <td>10</td>\n",
       "      <td>0</td>\n",
       "    </tr>\n",
       "    <tr>\n",
       "      <th>9617</th>\n",
       "      <td>IndiGo</td>\n",
       "      <td>Delhi</td>\n",
       "      <td>Cochin</td>\n",
       "      <td>1 stop</td>\n",
       "      <td>No info</td>\n",
       "      <td>9</td>\n",
       "      <td>March</td>\n",
       "      <td>Saturday</td>\n",
       "      <td>Spring</td>\n",
       "      <td>20</td>\n",
       "      <td>30</td>\n",
       "    </tr>\n",
       "    <tr>\n",
       "      <th>686</th>\n",
       "      <td>IndiGo</td>\n",
       "      <td>Delhi</td>\n",
       "      <td>Cochin</td>\n",
       "      <td>1 stop</td>\n",
       "      <td>No info</td>\n",
       "      <td>27</td>\n",
       "      <td>May</td>\n",
       "      <td>Monday</td>\n",
       "      <td>Spring</td>\n",
       "      <td>7</td>\n",
       "      <td>35</td>\n",
       "    </tr>\n",
       "    <tr>\n",
       "      <th>7684</th>\n",
       "      <td>Vistara</td>\n",
       "      <td>Kolkata</td>\n",
       "      <td>Banglore</td>\n",
       "      <td>1 stop</td>\n",
       "      <td>No info</td>\n",
       "      <td>1</td>\n",
       "      <td>April</td>\n",
       "      <td>Monday</td>\n",
       "      <td>Spring</td>\n",
       "      <td>7</td>\n",
       "      <td>10</td>\n",
       "    </tr>\n",
       "    <tr>\n",
       "      <th>7838</th>\n",
       "      <td>Jet Airways</td>\n",
       "      <td>Delhi</td>\n",
       "      <td>Cochin</td>\n",
       "      <td>1 stop</td>\n",
       "      <td>In-flight meal not included</td>\n",
       "      <td>1</td>\n",
       "      <td>June</td>\n",
       "      <td>Saturday</td>\n",
       "      <td>Summer</td>\n",
       "      <td>22</td>\n",
       "      <td>50</td>\n",
       "    </tr>\n",
       "  </tbody>\n",
       "</table>\n",
       "</div>"
      ],
      "text/plain": [
       "          Airline    Source Destination Total_Stops  \\\n",
       "2237    Air India  Banglore       Delhi    non-stop   \n",
       "9617       IndiGo     Delhi      Cochin      1 stop   \n",
       "686        IndiGo     Delhi      Cochin      1 stop   \n",
       "7684      Vistara   Kolkata    Banglore      1 stop   \n",
       "7838  Jet Airways     Delhi      Cochin      1 stop   \n",
       "\n",
       "                  Additional_Info  Day  Month   Weekday  Season Dep_Time_Hour  \\\n",
       "2237                      No info   21    May   Tuesday  Spring            10   \n",
       "9617                      No info    9  March  Saturday  Spring            20   \n",
       "686                       No info   27    May    Monday  Spring             7   \n",
       "7684                      No info    1  April    Monday  Spring             7   \n",
       "7838  In-flight meal not included    1   June  Saturday  Summer            22   \n",
       "\n",
       "      Dep_Time_Min  \n",
       "2237             0  \n",
       "9617            30  \n",
       "686             35  \n",
       "7684            10  \n",
       "7838            50  "
      ]
     },
     "execution_count": 9,
     "metadata": {},
     "output_type": "execute_result"
    }
   ],
   "source": [
    "X_train.head()"
   ]
  },
  {
   "cell_type": "code",
   "execution_count": 10,
   "metadata": {},
   "outputs": [
    {
     "data": {
      "text/html": [
       "<div>\n",
       "<style scoped>\n",
       "    .dataframe tbody tr th:only-of-type {\n",
       "        vertical-align: middle;\n",
       "    }\n",
       "\n",
       "    .dataframe tbody tr th {\n",
       "        vertical-align: top;\n",
       "    }\n",
       "\n",
       "    .dataframe thead th {\n",
       "        text-align: right;\n",
       "    }\n",
       "</style>\n",
       "<table border=\"1\" class=\"dataframe\">\n",
       "  <thead>\n",
       "    <tr style=\"text-align: right;\">\n",
       "      <th></th>\n",
       "      <th>Airline</th>\n",
       "      <th>Source</th>\n",
       "      <th>Destination</th>\n",
       "      <th>Total_Stops</th>\n",
       "      <th>Additional_Info</th>\n",
       "      <th>Day</th>\n",
       "      <th>Month</th>\n",
       "      <th>Weekday</th>\n",
       "      <th>Season</th>\n",
       "      <th>Dep_Time_Hour</th>\n",
       "      <th>Dep_Time_Min</th>\n",
       "    </tr>\n",
       "  </thead>\n",
       "  <tbody>\n",
       "    <tr>\n",
       "      <th>587</th>\n",
       "      <td>Air India</td>\n",
       "      <td>Banglore</td>\n",
       "      <td>Delhi</td>\n",
       "      <td>non-stop</td>\n",
       "      <td>No info</td>\n",
       "      <td>18</td>\n",
       "      <td>May</td>\n",
       "      <td>Saturday</td>\n",
       "      <td>Spring</td>\n",
       "      <td>10</td>\n",
       "      <td>0</td>\n",
       "    </tr>\n",
       "    <tr>\n",
       "      <th>830</th>\n",
       "      <td>Jet Airways</td>\n",
       "      <td>Delhi</td>\n",
       "      <td>Cochin</td>\n",
       "      <td>1 stop</td>\n",
       "      <td>In-flight meal not included</td>\n",
       "      <td>15</td>\n",
       "      <td>June</td>\n",
       "      <td>Saturday</td>\n",
       "      <td>Summer</td>\n",
       "      <td>14</td>\n",
       "      <td>0</td>\n",
       "    </tr>\n",
       "    <tr>\n",
       "      <th>2857</th>\n",
       "      <td>IndiGo</td>\n",
       "      <td>Kolkata</td>\n",
       "      <td>Banglore</td>\n",
       "      <td>non-stop</td>\n",
       "      <td>No info</td>\n",
       "      <td>24</td>\n",
       "      <td>June</td>\n",
       "      <td>Monday</td>\n",
       "      <td>Summer</td>\n",
       "      <td>17</td>\n",
       "      <td>15</td>\n",
       "    </tr>\n",
       "    <tr>\n",
       "      <th>5655</th>\n",
       "      <td>SpiceJet</td>\n",
       "      <td>Chennai</td>\n",
       "      <td>Kolkata</td>\n",
       "      <td>non-stop</td>\n",
       "      <td>No info</td>\n",
       "      <td>24</td>\n",
       "      <td>May</td>\n",
       "      <td>Friday</td>\n",
       "      <td>Spring</td>\n",
       "      <td>9</td>\n",
       "      <td>45</td>\n",
       "    </tr>\n",
       "    <tr>\n",
       "      <th>1005</th>\n",
       "      <td>Air India</td>\n",
       "      <td>Delhi</td>\n",
       "      <td>Cochin</td>\n",
       "      <td>2 stops</td>\n",
       "      <td>No info</td>\n",
       "      <td>21</td>\n",
       "      <td>May</td>\n",
       "      <td>Tuesday</td>\n",
       "      <td>Spring</td>\n",
       "      <td>22</td>\n",
       "      <td>0</td>\n",
       "    </tr>\n",
       "  </tbody>\n",
       "</table>\n",
       "</div>"
      ],
      "text/plain": [
       "          Airline    Source Destination Total_Stops  \\\n",
       "587     Air India  Banglore       Delhi    non-stop   \n",
       "830   Jet Airways     Delhi      Cochin      1 stop   \n",
       "2857       IndiGo   Kolkata    Banglore    non-stop   \n",
       "5655     SpiceJet   Chennai     Kolkata    non-stop   \n",
       "1005    Air India     Delhi      Cochin     2 stops   \n",
       "\n",
       "                  Additional_Info  Day Month   Weekday  Season Dep_Time_Hour  \\\n",
       "587                       No info   18   May  Saturday  Spring            10   \n",
       "830   In-flight meal not included   15  June  Saturday  Summer            14   \n",
       "2857                      No info   24  June    Monday  Summer            17   \n",
       "5655                      No info   24   May    Friday  Spring             9   \n",
       "1005                      No info   21   May   Tuesday  Spring            22   \n",
       "\n",
       "      Dep_Time_Min  \n",
       "587              0  \n",
       "830              0  \n",
       "2857            15  \n",
       "5655            45  \n",
       "1005             0  "
      ]
     },
     "execution_count": 10,
     "metadata": {},
     "output_type": "execute_result"
    }
   ],
   "source": [
    "X_test.head()"
   ]
  },
  {
   "cell_type": "markdown",
   "metadata": {},
   "source": [
    "## Feature Engineering\n",
    "### Checking For NaN Values"
   ]
  },
  {
   "cell_type": "code",
   "execution_count": 11,
   "metadata": {},
   "outputs": [
    {
     "data": {
      "text/plain": [
       "Airline            0\n",
       "Source             0\n",
       "Destination        0\n",
       "Total_Stops        1\n",
       "Additional_Info    0\n",
       "Day                0\n",
       "Month              0\n",
       "Weekday            0\n",
       "Season             0\n",
       "Dep_Time_Hour      0\n",
       "Dep_Time_Min       0\n",
       "dtype: int64"
      ]
     },
     "execution_count": 11,
     "metadata": {},
     "output_type": "execute_result"
    }
   ],
   "source": [
    "X_train.isnull().sum()"
   ]
  },
  {
   "cell_type": "markdown",
   "metadata": {},
   "source": [
    "As we have one missing value in the `Total_Stops` column, so we fill it with `1 stop` value.So it will not bias the dataset very much."
   ]
  },
  {
   "cell_type": "code",
   "execution_count": 12,
   "metadata": {},
   "outputs": [],
   "source": [
    "X_train[\"Total_Stops\"].fillna(\"1 stop\" , inplace = True)"
   ]
  },
  {
   "cell_type": "code",
   "execution_count": 13,
   "metadata": {},
   "outputs": [
    {
     "data": {
      "text/plain": [
       "Airline            0\n",
       "Source             0\n",
       "Destination        0\n",
       "Total_Stops        0\n",
       "Additional_Info    0\n",
       "Day                0\n",
       "Month              0\n",
       "Weekday            0\n",
       "Season             0\n",
       "Dep_Time_Hour      0\n",
       "Dep_Time_Min       0\n",
       "dtype: int64"
      ]
     },
     "execution_count": 13,
     "metadata": {},
     "output_type": "execute_result"
    }
   ],
   "source": [
    "X_test.isnull().sum()"
   ]
  },
  {
   "cell_type": "code",
   "execution_count": 14,
   "metadata": {},
   "outputs": [],
   "source": [
    "X_test[\"Total_Stops\"].fillna(\"1 stop\" , inplace = True)"
   ]
  },
  {
   "cell_type": "code",
   "execution_count": 15,
   "metadata": {},
   "outputs": [
    {
     "data": {
      "text/plain": [
       "Duration_Min    0\n",
       "Price           0\n",
       "dtype: int64"
      ]
     },
     "execution_count": 15,
     "metadata": {},
     "output_type": "execute_result"
    }
   ],
   "source": [
    "y_train.isnull().sum()"
   ]
  },
  {
   "cell_type": "code",
   "execution_count": 16,
   "metadata": {},
   "outputs": [
    {
     "data": {
      "text/plain": [
       "Duration_Min    0\n",
       "Price           0\n",
       "dtype: int64"
      ]
     },
     "execution_count": 16,
     "metadata": {},
     "output_type": "execute_result"
    }
   ],
   "source": [
    "y_test.isnull().sum()"
   ]
  },
  {
   "cell_type": "markdown",
   "metadata": {},
   "source": [
    "## Label Encoding\n",
    "### Frequency/Count Encoding"
   ]
  },
  {
   "cell_type": "markdown",
   "metadata": {},
   "source": [
    "The advantage of this encoding method is that it will not produce extra columns so we will not be facing the `curse of dimensionality`.The main disadvantage is that we assign some random numeric labels to each and every category.So it will reduce the predictive power of this feature.\n",
    "\n",
    "\n",
    "\n",
    "\n",
    "Before appplying any encoding method first we have to ensure that the number of labels of each categorical feature is same for both X_train and y_train datasets."
   ]
  },
  {
   "cell_type": "code",
   "execution_count": 17,
   "metadata": {
    "scrolled": false
   },
   "outputs": [
    {
     "name": "stdout",
     "output_type": "stream",
     "text": [
      "Airline : 11 labels\n",
      "Source : 5 labels\n",
      "Destination : 6 labels\n",
      "Total_Stops : 5 labels\n",
      "Additional_Info : 6 labels\n",
      "Month : 4 labels\n",
      "Weekday : 7 labels\n",
      "Season : 2 labels\n",
      "Dep_Time_Hour : 24 labels\n"
     ]
    }
   ],
   "source": [
    "for i in X_train.columns:\n",
    "  if X_train[i].dtype == \"object\":\n",
    "    print(i,\":\",len(X_train[i].unique()),\"labels\")\n",
    "  else:\n",
    "    continue"
   ]
  },
  {
   "cell_type": "code",
   "execution_count": 18,
   "metadata": {},
   "outputs": [
    {
     "name": "stdout",
     "output_type": "stream",
     "text": [
      "Airline : 10 labels\n",
      "Source : 5 labels\n",
      "Destination : 6 labels\n",
      "Total_Stops : 4 labels\n",
      "Additional_Info : 6 labels\n",
      "Month : 4 labels\n",
      "Weekday : 7 labels\n",
      "Season : 2 labels\n",
      "Dep_Time_Hour : 24 labels\n"
     ]
    }
   ],
   "source": [
    "for i in X_test.columns:\n",
    "  if X_test[i].dtype == \"object\":\n",
    "    print(i,\":\",len(X_test[i].unique()),\"labels\")\n",
    "  else:\n",
    "    continue"
   ]
  },
  {
   "cell_type": "markdown",
   "metadata": {},
   "source": [
    "As we can see the number of labels for both datasets is almost the same, except for two columns.If we pay more attention to this case, we realize that some labels(those have extremely less number of occurance in the dataset) are not in the test data which in this case it makes no difference."
   ]
  },
  {
   "cell_type": "code",
   "execution_count": 19,
   "metadata": {},
   "outputs": [],
   "source": [
    "# Getting the value_counts of every categories and passing them to a dictionary\n",
    "train_airline_map = X_train[\"Airline\"].value_counts().to_dict()\n",
    "train_source_map = X_train[\"Source\"].value_counts().to_dict()\n",
    "train_destination_map = X_train[\"Destination\"].value_counts().to_dict()"
   ]
  },
  {
   "cell_type": "markdown",
   "metadata": {},
   "source": [
    "**Note**: We have to use the same encoded values in the training set and test set.Because our model trains on the training set, every time we use the same encoded values of training set for the test set to model predict properly the test set values."
   ]
  },
  {
   "cell_type": "code",
   "execution_count": 20,
   "metadata": {},
   "outputs": [],
   "source": [
    "X_train[\"Airline\"] = X_train[\"Airline\"].map(train_airline_map)\n",
    "X_train[\"Source\"] = X_train[\"Source\"].map(train_source_map)\n",
    "X_train[\"Destination\"] = X_train[\"Destination\"].map(train_destination_map)\n",
    "\n",
    "X_test[\"Airline\"] = X_test[\"Airline\"].map(train_airline_map)\n",
    "X_test[\"Source\"] = X_test[\"Source\"].map(train_source_map)\n",
    "X_test[\"Destination\"] = X_test[\"Destination\"].map(train_destination_map)"
   ]
  },
  {
   "cell_type": "markdown",
   "metadata": {},
   "source": [
    "### One-Hot-Encoding\n",
    "The advantage of this method is that it is our default choice to encode the categorical columns and it is very easy to implement and straightforward.The main disadvantage is that, if our feature contains lots of categories,this method produce lots of columns which will lead to high dimensionality curse.\n",
    "#### X_train"
   ]
  },
  {
   "cell_type": "code",
   "execution_count": 21,
   "metadata": {},
   "outputs": [
    {
     "data": {
      "text/html": [
       "<div>\n",
       "<style scoped>\n",
       "    .dataframe tbody tr th:only-of-type {\n",
       "        vertical-align: middle;\n",
       "    }\n",
       "\n",
       "    .dataframe tbody tr th {\n",
       "        vertical-align: top;\n",
       "    }\n",
       "\n",
       "    .dataframe thead th {\n",
       "        text-align: right;\n",
       "    }\n",
       "</style>\n",
       "<table border=\"1\" class=\"dataframe\">\n",
       "  <thead>\n",
       "    <tr style=\"text-align: right;\">\n",
       "      <th></th>\n",
       "      <th>Month_June</th>\n",
       "      <th>Month_March</th>\n",
       "      <th>Month_May</th>\n",
       "    </tr>\n",
       "  </thead>\n",
       "  <tbody>\n",
       "    <tr>\n",
       "      <th>2237</th>\n",
       "      <td>0</td>\n",
       "      <td>0</td>\n",
       "      <td>1</td>\n",
       "    </tr>\n",
       "    <tr>\n",
       "      <th>9617</th>\n",
       "      <td>0</td>\n",
       "      <td>1</td>\n",
       "      <td>0</td>\n",
       "    </tr>\n",
       "    <tr>\n",
       "      <th>686</th>\n",
       "      <td>0</td>\n",
       "      <td>0</td>\n",
       "      <td>1</td>\n",
       "    </tr>\n",
       "    <tr>\n",
       "      <th>7684</th>\n",
       "      <td>0</td>\n",
       "      <td>0</td>\n",
       "      <td>0</td>\n",
       "    </tr>\n",
       "    <tr>\n",
       "      <th>7838</th>\n",
       "      <td>1</td>\n",
       "      <td>0</td>\n",
       "      <td>0</td>\n",
       "    </tr>\n",
       "  </tbody>\n",
       "</table>\n",
       "</div>"
      ],
      "text/plain": [
       "      Month_June  Month_March  Month_May\n",
       "2237           0            0          1\n",
       "9617           0            1          0\n",
       "686            0            0          1\n",
       "7684           0            0          0\n",
       "7838           1            0          0"
      ]
     },
     "execution_count": 21,
     "metadata": {},
     "output_type": "execute_result"
    }
   ],
   "source": [
    "Month_train = X_train[\"Month\"]\n",
    "Month_train = pd.get_dummies(Month_train , prefix = \"Month\" , drop_first = True)\n",
    "Month_train.head()"
   ]
  },
  {
   "cell_type": "code",
   "execution_count": 22,
   "metadata": {
    "scrolled": true
   },
   "outputs": [
    {
     "data": {
      "text/html": [
       "<div>\n",
       "<style scoped>\n",
       "    .dataframe tbody tr th:only-of-type {\n",
       "        vertical-align: middle;\n",
       "    }\n",
       "\n",
       "    .dataframe tbody tr th {\n",
       "        vertical-align: top;\n",
       "    }\n",
       "\n",
       "    .dataframe thead th {\n",
       "        text-align: right;\n",
       "    }\n",
       "</style>\n",
       "<table border=\"1\" class=\"dataframe\">\n",
       "  <thead>\n",
       "    <tr style=\"text-align: right;\">\n",
       "      <th></th>\n",
       "      <th>Season_Summer</th>\n",
       "    </tr>\n",
       "  </thead>\n",
       "  <tbody>\n",
       "    <tr>\n",
       "      <th>2237</th>\n",
       "      <td>0</td>\n",
       "    </tr>\n",
       "    <tr>\n",
       "      <th>9617</th>\n",
       "      <td>0</td>\n",
       "    </tr>\n",
       "    <tr>\n",
       "      <th>686</th>\n",
       "      <td>0</td>\n",
       "    </tr>\n",
       "    <tr>\n",
       "      <th>7684</th>\n",
       "      <td>0</td>\n",
       "    </tr>\n",
       "    <tr>\n",
       "      <th>7838</th>\n",
       "      <td>1</td>\n",
       "    </tr>\n",
       "  </tbody>\n",
       "</table>\n",
       "</div>"
      ],
      "text/plain": [
       "      Season_Summer\n",
       "2237              0\n",
       "9617              0\n",
       "686               0\n",
       "7684              0\n",
       "7838              1"
      ]
     },
     "execution_count": 22,
     "metadata": {},
     "output_type": "execute_result"
    }
   ],
   "source": [
    "Season_train = X_train[\"Season\"]\n",
    "Season_train = pd.get_dummies(Season_train , prefix = \"Season\" , drop_first = True)\n",
    "Season_train.head()"
   ]
  },
  {
   "cell_type": "code",
   "execution_count": 23,
   "metadata": {},
   "outputs": [],
   "source": [
    "X_train = pd.concat([X_train , Month_train , Season_train] , axis = 1)"
   ]
  },
  {
   "cell_type": "markdown",
   "metadata": {},
   "source": [
    "#### X_test"
   ]
  },
  {
   "cell_type": "code",
   "execution_count": 24,
   "metadata": {},
   "outputs": [
    {
     "data": {
      "text/html": [
       "<div>\n",
       "<style scoped>\n",
       "    .dataframe tbody tr th:only-of-type {\n",
       "        vertical-align: middle;\n",
       "    }\n",
       "\n",
       "    .dataframe tbody tr th {\n",
       "        vertical-align: top;\n",
       "    }\n",
       "\n",
       "    .dataframe thead th {\n",
       "        text-align: right;\n",
       "    }\n",
       "</style>\n",
       "<table border=\"1\" class=\"dataframe\">\n",
       "  <thead>\n",
       "    <tr style=\"text-align: right;\">\n",
       "      <th></th>\n",
       "      <th>Month_June</th>\n",
       "      <th>Month_March</th>\n",
       "      <th>Month_May</th>\n",
       "    </tr>\n",
       "  </thead>\n",
       "  <tbody>\n",
       "    <tr>\n",
       "      <th>587</th>\n",
       "      <td>0</td>\n",
       "      <td>0</td>\n",
       "      <td>1</td>\n",
       "    </tr>\n",
       "    <tr>\n",
       "      <th>830</th>\n",
       "      <td>1</td>\n",
       "      <td>0</td>\n",
       "      <td>0</td>\n",
       "    </tr>\n",
       "    <tr>\n",
       "      <th>2857</th>\n",
       "      <td>1</td>\n",
       "      <td>0</td>\n",
       "      <td>0</td>\n",
       "    </tr>\n",
       "    <tr>\n",
       "      <th>5655</th>\n",
       "      <td>0</td>\n",
       "      <td>0</td>\n",
       "      <td>1</td>\n",
       "    </tr>\n",
       "    <tr>\n",
       "      <th>1005</th>\n",
       "      <td>0</td>\n",
       "      <td>0</td>\n",
       "      <td>1</td>\n",
       "    </tr>\n",
       "  </tbody>\n",
       "</table>\n",
       "</div>"
      ],
      "text/plain": [
       "      Month_June  Month_March  Month_May\n",
       "587            0            0          1\n",
       "830            1            0          0\n",
       "2857           1            0          0\n",
       "5655           0            0          1\n",
       "1005           0            0          1"
      ]
     },
     "execution_count": 24,
     "metadata": {},
     "output_type": "execute_result"
    }
   ],
   "source": [
    "Month_test = X_test[\"Month\"]\n",
    "Month_test = pd.get_dummies(Month_test , prefix = \"Month\" , drop_first = True)\n",
    "Month_test.head()"
   ]
  },
  {
   "cell_type": "code",
   "execution_count": 25,
   "metadata": {},
   "outputs": [
    {
     "data": {
      "text/html": [
       "<div>\n",
       "<style scoped>\n",
       "    .dataframe tbody tr th:only-of-type {\n",
       "        vertical-align: middle;\n",
       "    }\n",
       "\n",
       "    .dataframe tbody tr th {\n",
       "        vertical-align: top;\n",
       "    }\n",
       "\n",
       "    .dataframe thead th {\n",
       "        text-align: right;\n",
       "    }\n",
       "</style>\n",
       "<table border=\"1\" class=\"dataframe\">\n",
       "  <thead>\n",
       "    <tr style=\"text-align: right;\">\n",
       "      <th></th>\n",
       "      <th>Season_Summer</th>\n",
       "    </tr>\n",
       "  </thead>\n",
       "  <tbody>\n",
       "    <tr>\n",
       "      <th>587</th>\n",
       "      <td>0</td>\n",
       "    </tr>\n",
       "    <tr>\n",
       "      <th>830</th>\n",
       "      <td>1</td>\n",
       "    </tr>\n",
       "    <tr>\n",
       "      <th>2857</th>\n",
       "      <td>1</td>\n",
       "    </tr>\n",
       "    <tr>\n",
       "      <th>5655</th>\n",
       "      <td>0</td>\n",
       "    </tr>\n",
       "    <tr>\n",
       "      <th>1005</th>\n",
       "      <td>0</td>\n",
       "    </tr>\n",
       "  </tbody>\n",
       "</table>\n",
       "</div>"
      ],
      "text/plain": [
       "      Season_Summer\n",
       "587               0\n",
       "830               1\n",
       "2857              1\n",
       "5655              0\n",
       "1005              0"
      ]
     },
     "execution_count": 25,
     "metadata": {},
     "output_type": "execute_result"
    }
   ],
   "source": [
    "Season_test = X_test[\"Season\"]\n",
    "Season_test = pd.get_dummies(Season_test , prefix = \"Season\" , drop_first = True)\n",
    "Season_test.head()"
   ]
  },
  {
   "cell_type": "code",
   "execution_count": 27,
   "metadata": {},
   "outputs": [],
   "source": [
    "X_test = pd.concat([X_test , Month_test , Season_test] , axis = 1)"
   ]
  },
  {
   "cell_type": "markdown",
   "metadata": {},
   "source": [
    "### Cyclical Features Encoding\n",
    "If we pay attention to our dataset, we can see that some feartures have cyclical attribute.Like weekday,hour,etc.For instance we can not label Monday to Sunday from 0...6 this is because in real life monday is after sunday so their difference is 1.In this situations we have to use cyclical feature encoding which leads to model improvement.\n",
    "\n",
    "to implement this we have to get the sin and cos values of every feature values and put them into two columns.The main disadvantage of this method is that we convert one categorical features into two distinct columns(which are highly dependent on each other).This maybe a problem for tree models which split the features randomly."
   ]
  },
  {
   "cell_type": "code",
   "execution_count": 28,
   "metadata": {},
   "outputs": [],
   "source": [
    "# First we have to label the weekday names with numerical values to implement the cyclical feature encoding.\n",
    "weekday_map = {\"Monday\" : 1,\n",
    "               \"Tuesday\" : 2,\n",
    "               \"Wednesday\" : 3,\n",
    "               \"Thursday\" : 4,\n",
    "               \"Friday\" : 5,\n",
    "               \"Saturday\" : 6,\n",
    "               \"Sunday\" : 7\n",
    "              }\n",
    "X_train[\"Weekday\"] = X_train[\"Weekday\"].map(weekday_map)\n",
    "X_test[\"Weekday\"] = X_test[\"Weekday\"].map(weekday_map)"
   ]
  },
  {
   "cell_type": "markdown",
   "metadata": {},
   "source": [
    "#### X_train"
   ]
  },
  {
   "cell_type": "code",
   "execution_count": 29,
   "metadata": {},
   "outputs": [],
   "source": [
    "X_train[\"Weekday\"] = X_train[\"Weekday\"].astype(\"int32\")\n",
    "X_train[\"Dep_Time_Hour\"] = X_train[\"Dep_Time_Hour\"].astype(\"int32\")"
   ]
  },
  {
   "cell_type": "code",
   "execution_count": 30,
   "metadata": {},
   "outputs": [],
   "source": [
    "# \n",
    "X_train[\"Dep_Hour_Sin\"] = round(np.sin(X_train[\"Dep_Time_Hour\"] * (2 * np.pi / X_train[\"Dep_Time_Hour\"].nunique())) , 2)\n",
    "X_train[\"Dep_Hour_Cos\"] = round(np.cos(X_train[\"Dep_Time_Hour\"] * (2 * np.pi / X_train[\"Dep_Time_Hour\"].nunique())) , 2)\n",
    "\n",
    "X_train[\"Dep_Min_Sin\"] = round(np.sin(X_train[\"Dep_Time_Min\"] * (2 * np.pi / X_train[\"Dep_Time_Min\"].nunique())) , 2)\n",
    "X_train[\"Dep_Min_Cos\"] = round(np.cos(X_train[\"Dep_Time_Min\"] * (2 * np.pi / X_train[\"Dep_Time_Min\"].nunique())) , 2)\n",
    "\n",
    "X_train[\"Day_Sin\"] = round(np.sin(X_train[\"Day\"] * (2 * np.pi / X_train[\"Day\"].nunique())) , 2)\n",
    "X_train[\"Day_Cos\"] = round(np.cos(X_train[\"Day\"] * (2 * np.pi / X_train[\"Day\"].nunique())) , 2)\n",
    "\n",
    "X_train[\"Weekday_Sin\"] = round(np.sin(X_train[\"Weekday\"] * (2 * np.pi / X_train[\"Weekday\"].nunique())) , 2)\n",
    "X_train[\"Weekday_Cos\"] = round(np.cos(X_train[\"Weekday\"] * (2 * np.pi / X_train[\"Weekday\"].nunique())) , 2)"
   ]
  },
  {
   "cell_type": "code",
   "execution_count": 31,
   "metadata": {},
   "outputs": [
    {
     "data": {
      "text/plain": [
       "(-1.1, 1.1, -1.1, 1.1)"
      ]
     },
     "execution_count": 31,
     "metadata": {},
     "output_type": "execute_result"
    },
    {
     "data": {
      "image/png": "[encoded data removed]",
      "text/plain": [
       "<Figure size 432x288 with 1 Axes>"
      ]
     },
     "metadata": {
      "needs_background": "light"
     },
     "output_type": "display_data"
    }
   ],
   "source": [
    "sns.scatterplot(data=X_train, x=\"Dep_Hour_Sin\", y=\"Dep_Hour_Cos\")\n",
    "plt.axis(\"equal\")"
   ]
  },
  {
   "cell_type": "code",
   "execution_count": 32,
   "metadata": {},
   "outputs": [
    {
     "data": {
      "text/plain": [
       "(-1.067, 1.067, -0.995, 1.095)"
      ]
     },
     "execution_count": 32,
     "metadata": {},
     "output_type": "execute_result"
    },
    {
     "data": {
      "image/png": "[encoded data removed]",
      "text/plain": [
       "<Figure size 432x288 with 1 Axes>"
      ]
     },
     "metadata": {
      "needs_background": "light"
     },
     "output_type": "display_data"
    }
   ],
   "source": [
    "sns.scatterplot(data=X_train, x=\"Weekday_Sin\", y=\"Weekday_Cos\")\n",
    "plt.axis(\"equal\")"
   ]
  },
  {
   "cell_type": "code",
   "execution_count": 33,
   "metadata": {},
   "outputs": [
    {
     "data": {
      "text/plain": [
       "(-1.1, 1.1, -1.1, 1.1)"
      ]
     },
     "execution_count": 33,
     "metadata": {},
     "output_type": "execute_result"
    },
    {
     "data": {
      "image/png": "[encoded data removed]",
      "text/plain": [
       "<Figure size 432x288 with 1 Axes>"
      ]
     },
     "metadata": {
      "needs_background": "light"
     },
     "output_type": "display_data"
    }
   ],
   "source": [
    "sns.scatterplot(data=X_train, x=\"Dep_Min_Sin\", y=\"Dep_Min_Cos\")\n",
    "plt.axis(\"equal\")"
   ]
  },
  {
   "cell_type": "code",
   "execution_count": 34,
   "metadata": {},
   "outputs": [
    {
     "data": {
      "text/plain": [
       "(-1.045, 1.045, -1.0905, 0.9005000000000001)"
      ]
     },
     "execution_count": 34,
     "metadata": {},
     "output_type": "execute_result"
    },
    {
     "data": {
      "image/png": "[encoded data removed]",
      "text/plain": [
       "<Figure size 432x288 with 1 Axes>"
      ]
     },
     "metadata": {
      "needs_background": "light"
     },
     "output_type": "display_data"
    }
   ],
   "source": [
    "sns.scatterplot(data=X_train, x=\"Day_Sin\", y=\"Day_Cos\")\n",
    "plt.axis(\"equal\")"
   ]
  },
  {
   "cell_type": "markdown",
   "metadata": {},
   "source": [
    "#### X_test"
   ]
  },
  {
   "cell_type": "code",
   "execution_count": 35,
   "metadata": {},
   "outputs": [],
   "source": [
    "X_test[\"Weekday\"] = X_test[\"Weekday\"].astype(\"int32\")\n",
    "X_test[\"Dep_Time_Hour\"] = X_test[\"Dep_Time_Hour\"].astype(\"int32\")"
   ]
  },
  {
   "cell_type": "code",
   "execution_count": 36,
   "metadata": {},
   "outputs": [],
   "source": [
    "X_test[\"Dep_Hour_Sin\"] = round(np.sin(X_test[\"Dep_Time_Hour\"] * (2 * np.pi / X_test[\"Dep_Time_Hour\"].nunique())) , 2)\n",
    "X_test[\"Dep_Hour_Cos\"] = round(np.cos(X_test[\"Dep_Time_Hour\"] * (2 * np.pi / X_test[\"Dep_Time_Hour\"].nunique())) , 2)\n",
    "\n",
    "X_test[\"Dep_Min_Sin\"] = round(np.sin(X_test[\"Dep_Time_Min\"] * (2 * np.pi / X_test[\"Dep_Time_Min\"].nunique())) , 2)\n",
    "X_test[\"Dep_Min_Cos\"] = round(np.cos(X_test[\"Dep_Time_Min\"] * (2 * np.pi / X_test[\"Dep_Time_Min\"].nunique())) , 2)\n",
    "\n",
    "X_test[\"Day_Sin\"] = round(np.sin(X_test[\"Day\"] * (2 * np.pi / X_test[\"Day\"].nunique())) , 2)\n",
    "X_test[\"Day_Cos\"] = round(np.cos(X_test[\"Day\"] * (2 * np.pi / X_test[\"Day\"].nunique())) , 2)\n",
    "\n",
    "X_test[\"Weekday_Sin\"] = round(np.sin(X_test[\"Weekday\"] * (2 * np.pi / X_test[\"Weekday\"].nunique())) , 2)\n",
    "X_test[\"Weekday_Cos\"] = round(np.cos(X_test[\"Weekday\"] * (2 * np.pi / X_test[\"Weekday\"].nunique())) , 2)"
   ]
  },
  {
   "cell_type": "markdown",
   "metadata": {},
   "source": [
    "### Label Encoding(Ordinal Categorical Column)\n",
    "As we know the more number of stops in traveling we have, the more money we have to pay.So the `Total_Stops` has a positive relationship with `Price` and `Duration`.So we have to treat this column as a ordinal categorical column and map the numerical values with respect to their price value."
   ]
  },
  {
   "cell_type": "code",
   "execution_count": 37,
   "metadata": {},
   "outputs": [],
   "source": [
    "stops_map = {\n",
    "    \"non-stop\" : 1,\n",
    "    \"1 stop\" : 2,\n",
    "    \"2 stops\" : 3,\n",
    "    \"3 stops\" : 4,\n",
    "    \"4 stops\" : 5\n",
    "}\n",
    "X_train[\"Total_Stops\"] = X_train[\"Total_Stops\"].map(stops_map)\n",
    "X_test[\"Total_Stops\"] = X_test[\"Total_Stops\"].map(stops_map)"
   ]
  },
  {
   "cell_type": "markdown",
   "metadata": {},
   "source": [
    "### Dropping Redundant Columns"
   ]
  },
  {
   "cell_type": "code",
   "execution_count": 38,
   "metadata": {},
   "outputs": [],
   "source": [
    "redundant_columns = [\"Additional_Info\" , \"Weekday\" , \"Day\" , \"Dep_Time_Min\", \"Dep_Time_Hour\", \"Month\" , \"Season\"]\n",
    "X_train.drop(redundant_columns ,axis = 1, inplace = True)\n",
    "X_test.drop(redundant_columns ,axis = 1, inplace = True)"
   ]
  },
  {
   "cell_type": "code",
   "execution_count": 39,
   "metadata": {},
   "outputs": [],
   "source": [
    "categorical_lst = [\"Airline\" , \"Source\" , \"Destination\" , \"Month_March\",\n",
    "                  \"Month_June\" , \"Month_May\" , \"Season_Summer\"]\n",
    "# Converting every column data type into object data type\n",
    "for i in categorical_lst:\n",
    "    X_train[i] = X_train[i].astype(\"object\")\n",
    "    X_test[i] = X_test[i].astype(\"object\")"
   ]
  },
  {
   "cell_type": "markdown",
   "metadata": {},
   "source": [
    "## Feature Selection\n",
    "Another important stage of a machine learning project is feature selection which with various methods such as statistical test and tree models we are able to detect most important features and drop redundant features."
   ]
  },
  {
   "cell_type": "code",
   "execution_count": 40,
   "metadata": {},
   "outputs": [],
   "source": [
    "from scipy import stats\n",
    "from sklearn.feature_selection import mutual_info_regression"
   ]
  },
  {
   "cell_type": "code",
   "execution_count": 41,
   "metadata": {},
   "outputs": [
    {
     "name": "stdout",
     "output_type": "stream",
     "text": [
      "<class 'pandas.core.frame.DataFrame'>\n",
      "Int64Index: 7887 entries, 2237 to 235\n",
      "Data columns (total 16 columns):\n",
      " #   Column         Non-Null Count  Dtype  \n",
      "---  ------         --------------  -----  \n",
      " 0   Airline        7887 non-null   object \n",
      " 1   Source         7887 non-null   object \n",
      " 2   Destination    7887 non-null   object \n",
      " 3   Total_Stops    7887 non-null   int64  \n",
      " 4   Month_June     7887 non-null   object \n",
      " 5   Month_March    7887 non-null   object \n",
      " 6   Month_May      7887 non-null   object \n",
      " 7   Season_Summer  7887 non-null   object \n",
      " 8   Dep_Hour_Sin   7887 non-null   float64\n",
      " 9   Dep_Hour_Cos   7887 non-null   float64\n",
      " 10  Dep_Min_Sin    7887 non-null   float64\n",
      " 11  Dep_Min_Cos    7887 non-null   float64\n",
      " 12  Day_Sin        7887 non-null   float64\n",
      " 13  Day_Cos        7887 non-null   float64\n",
      " 14  Weekday_Sin    7887 non-null   float64\n",
      " 15  Weekday_Cos    7887 non-null   float64\n",
      "dtypes: float64(8), int64(1), object(7)\n",
      "memory usage: 1.0+ MB\n"
     ]
    }
   ],
   "source": [
    "X_train.info()"
   ]
  },
  {
   "cell_type": "markdown",
   "metadata": {},
   "source": [
    "### Scikit-Learn's Mutual Info\n",
    "\n",
    "It can help us to evaluate every column to understand which columns have the highest dependencies on the target value."
   ]
  },
  {
   "cell_type": "code",
   "execution_count": 45,
   "metadata": {},
   "outputs": [],
   "source": [
    "def mutual_info(data ,target_feature):\n",
    "    mutual_info = mutual_info_regression(data.fillna(0) , target_feature)\n",
    "    mutual_info = pd.Series(mutual_info)\n",
    "    mutual_info.index = data.columns\n",
    "    mutual_info = mutual_info.sort_values(ascending = False)\n",
    "    mutual_info.sort_values(ascending = False).plot.bar(figsize = (12 , 8))"
   ]
  },
  {
   "cell_type": "code",
   "execution_count": 46,
   "metadata": {},
   "outputs": [
    {
     "data": {
      "image/png": "[encoded data removed]",
      "text/plain": [
       "<Figure size 864x576 with 1 Axes>"
      ]
     },
     "metadata": {
      "needs_background": "light"
     },
     "output_type": "display_data"
    }
   ],
   "source": [
    "mutual_info(X_train ,y_train[\"Price\"])"
   ]
  },
  {
   "cell_type": "markdown",
   "metadata": {},
   "source": [
    "`Airline`,`Desination` and `Source` have the highest predictive power with respect to `Price` target value."
   ]
  },
  {
   "cell_type": "code",
   "execution_count": 48,
   "metadata": {},
   "outputs": [
    {
     "data": {
      "image/png": "[encoded data removed]",
      "text/plain": [
       "<Figure size 864x576 with 1 Axes>"
      ]
     },
     "metadata": {
      "needs_background": "light"
     },
     "output_type": "display_data"
    }
   ],
   "source": [
    "mutual_info(X_train ,y_train[\"Duration_Min\"])"
   ]
  },
  {
   "cell_type": "markdown",
   "metadata": {},
   "source": [
    "And at last `Dep_Hour_Sin`,`Dep_Hour_Cos` and `Destination` are the most important features with respect to the `Duration` because usually the duration of the traveling is dependent on your departure time.It is obvious that `Day_Sin` and `Day_Cos` are the least important features.This is because the day itself can not estimate the duration of the traveling."
   ]
  },
  {
   "cell_type": "markdown",
   "metadata": {},
   "source": [
    "### Feature Importance"
   ]
  },
  {
   "cell_type": "code",
   "execution_count": 50,
   "metadata": {},
   "outputs": [
    {
     "data": {
      "text/plain": [
       "ExtraTreesRegressor()"
      ]
     },
     "execution_count": 50,
     "metadata": {},
     "output_type": "execute_result"
    }
   ],
   "source": [
    "from sklearn.ensemble import ExtraTreesRegressor\n",
    "selection = ExtraTreesRegressor()\n",
    "selection.fit(X_train, y_train)"
   ]
  },
  {
   "cell_type": "code",
   "execution_count": 51,
   "metadata": {},
   "outputs": [
    {
     "data": {
      "image/png": "[encoded data removed]",
      "text/plain": [
       "<Figure size 864x576 with 1 Axes>"
      ]
     },
     "metadata": {
      "needs_background": "light"
     },
     "output_type": "display_data"
    }
   ],
   "source": [
    "plt.figure(figsize = (12,8))\n",
    "feat_importances = pd.Series(selection.feature_importances_, index=X_train.columns)\n",
    "feat_importances.sort_values(ascending = False).plot(kind='bar')\n",
    "plt.show()"
   ]
  },
  {
   "cell_type": "markdown",
   "metadata": {},
   "source": [
    "### Correlation\n",
    "When we want to compare two continuous features we use correlation.Correlation can help us to detect two dependent features and remove one of them.By doing this we reduce the dimensionality of our dataset."
   ]
  },
  {
   "cell_type": "code",
   "execution_count": 52,
   "metadata": {},
   "outputs": [
    {
     "data": {
      "text/plain": [
       "<AxesSubplot:>"
      ]
     },
     "execution_count": 52,
     "metadata": {},
     "output_type": "execute_result"
    },
    {
     "data": {
      "image/png": "[encoded data removed]",
      "text/plain": [
       "<Figure size 1080x1080 with 2 Axes>"
      ]
     },
     "metadata": {
      "needs_background": "light"
     },
     "output_type": "display_data"
    }
   ],
   "source": [
    "corr = X_train.corr()\n",
    "plt.figure(figsize=(15 , 15))\n",
    "sns.heatmap(corr , annot = True)"
   ]
  },
  {
   "cell_type": "markdown",
   "metadata": {},
   "source": [
    "### ANOVA Test\n",
    "When we want to compare one categorical column and one continuous column or sevral categorical columns with one continuous column we use ANOVA test."
   ]
  },
  {
   "cell_type": "code",
   "execution_count": 53,
   "metadata": {},
   "outputs": [],
   "source": [
    "def anova_evaluation(categorical_col , continuous_col , alpha = 0.05):\n",
    "  df_anova = pd.concat([categorical_col , continuous_col] , axis = 1)\n",
    "  groups = pd.unique(categorical_col.values)\n",
    "  d_data = {group : df_anova[continuous_col.name][df_anova[categorical_col.name] == group] for group in groups}\n",
    "  col_list = []\n",
    "  for i in categorical_col.unique():\n",
    "    col_list.append(d_data[i])\n",
    "  F, p = stats.f_oneway(*col_list)\n",
    "  print(\"p-value : \" , p)\n",
    "  print(\"significance value : \" , alpha)\n",
    "  print(\"\\n\" + \"-\" * 60)\n",
    "  if p < alpha:\n",
    "    return \"Rejecting Null Hypothesis.There is a relationship between {} and {} columns.\".format(categorical_col.name , continuous_col.name)\n",
    "  else:\n",
    "    return \"Accepting Null Hypothesis.There is no relationship between {} and {} columns.\".format(categorical_col.name , continuous_col.name)"
   ]
  },
  {
   "cell_type": "code",
   "execution_count": 54,
   "metadata": {},
   "outputs": [
    {
     "name": "stdout",
     "output_type": "stream",
     "text": [
      "p-value :  0.0\n",
      "significance value :  0.05\n",
      "\n",
      "------------------------------------------------------------\n",
      "Rejecting Null Hypothesis.There is a relationship between Airline and Price columns.\n",
      "\n",
      " ----------------------------------------------------------------------\n",
      "p-value :  0.0\n",
      "significance value :  0.05\n",
      "\n",
      "------------------------------------------------------------\n",
      "Rejecting Null Hypothesis.There is a relationship between Source and Price columns.\n",
      "\n",
      " ----------------------------------------------------------------------\n",
      "p-value :  0.0\n",
      "significance value :  0.05\n",
      "\n",
      "------------------------------------------------------------\n",
      "Rejecting Null Hypothesis.There is a relationship between Destination and Price columns.\n",
      "\n",
      " ----------------------------------------------------------------------\n",
      "p-value :  0.3087021867495704\n",
      "significance value :  0.05\n",
      "\n",
      "------------------------------------------------------------\n",
      "Accepting Null Hypothesis.There is no relationship between Month_June and Price columns.\n",
      "\n",
      " ----------------------------------------------------------------------\n",
      "p-value :  3.4740376164018205e-38\n",
      "significance value :  0.05\n",
      "\n",
      "------------------------------------------------------------\n",
      "Rejecting Null Hypothesis.There is a relationship between Month_March and Price columns.\n",
      "\n",
      " ----------------------------------------------------------------------\n",
      "p-value :  2.5746014821478267e-05\n",
      "significance value :  0.05\n",
      "\n",
      "------------------------------------------------------------\n",
      "Rejecting Null Hypothesis.There is a relationship between Month_May and Price columns.\n",
      "\n",
      " ----------------------------------------------------------------------\n",
      "p-value :  0.3087021867495704\n",
      "significance value :  0.05\n",
      "\n",
      "------------------------------------------------------------\n",
      "Accepting Null Hypothesis.There is no relationship between Season_Summer and Price columns.\n",
      "\n",
      " ----------------------------------------------------------------------\n"
     ]
    }
   ],
   "source": [
    "for i in X_train.columns:\n",
    "    if X_train[i].dtype == \"object\":\n",
    "        print(anova_evaluation(X_train[i] , y_train[\"Price\"]))\n",
    "        print(\"\\n\"  , \"-\" * 70)\n",
    "    else:\n",
    "        continue           "
   ]
  },
  {
   "cell_type": "code",
   "execution_count": 55,
   "metadata": {},
   "outputs": [],
   "source": [
    "#X_train.to_csv(\"data/cleaned_data/X_train.csv\")\n",
    "#X_test.to_csv(\"data/cleaned_data/X_test.csv\")\n",
    "#y_train.to_csv(\"data/cleaned_data/y_train.csv\")\n",
    "#y_test.to_csv(\"data/cleaned_data/y_test.csv\")"
   ]
  }
 ],
 "metadata": {
  "kernelspec": {
   "display_name": "Python (flightfare)",
   "language": "python",
   "name": "flightfare"
  },
  "language_info": {
   "codemirror_mode": {
    "name": "ipython",
    "version": 3
   },
   "file_extension": ".py",
   "mimetype": "text/x-python",
   "name": "python",
   "nbconvert_exporter": "python",
   "pygments_lexer": "ipython3",
   "version": "3.7.5"
  }
 },
 "nbformat": 4,
 "nbformat_minor": 4
}
